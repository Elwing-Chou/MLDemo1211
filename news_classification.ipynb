{
 "cells": [
  {
   "cell_type": "code",
   "execution_count": 1,
   "metadata": {
    "collapsed": true
   },
   "outputs": [
    {
     "data": {
      "text/html": [
       "<div>\n",
       "<style scoped>\n",
       "    .dataframe tbody tr th:only-of-type {\n",
       "        vertical-align: middle;\n",
       "    }\n",
       "\n",
       "    .dataframe tbody tr th {\n",
       "        vertical-align: top;\n",
       "    }\n",
       "\n",
       "    .dataframe thead th {\n",
       "        text-align: right;\n",
       "    }\n",
       "</style>\n",
       "<table border=\"1\" class=\"dataframe\">\n",
       "  <thead>\n",
       "    <tr style=\"text-align: right;\">\n",
       "      <th></th>\n",
       "      <th>content</th>\n",
       "      <th>ans</th>\n",
       "    </tr>\n",
       "  </thead>\n",
       "  <tbody>\n",
       "    <tr>\n",
       "      <th>0</th>\n",
       "      <td>日月光華 -- Traffic_Info精華區文章閱讀\\n-----------------...</td>\n",
       "      <td>交通</td>\n",
       "    </tr>\n",
       "    <tr>\n",
       "      <th>1</th>\n",
       "      <td>日月光華 -- Traffic_Info精華區文章閱讀\\n-----------------...</td>\n",
       "      <td>交通</td>\n",
       "    </tr>\n",
       "    <tr>\n",
       "      <th>2</th>\n",
       "      <td>日月光華 -- Traffic_Info精華區文章閱讀\\n-----------------...</td>\n",
       "      <td>交通</td>\n",
       "    </tr>\n",
       "    <tr>\n",
       "      <th>3</th>\n",
       "      <td>三趟火車停開 乘客可全額退票 \\n瀏覽次數：1180 \\n    昨日，來自鐵路部門的消息說...</td>\n",
       "      <td>交通</td>\n",
       "    </tr>\n",
       "    <tr>\n",
       "      <th>4</th>\n",
       "      <td>日月光華 -- Traffic_Info精華區文章閱讀\\n-----------------...</td>\n",
       "      <td>交通</td>\n",
       "    </tr>\n",
       "    <tr>\n",
       "      <th>...</th>\n",
       "      <td>...</td>\n",
       "      <td>...</td>\n",
       "    </tr>\n",
       "    <tr>\n",
       "      <th>96</th>\n",
       "      <td>最優秀選手無緣亞運會健美賽\\n \\n　 \\n    健美在亞洲運動會上是“新生兒”——韓國釜...</td>\n",
       "      <td>體育</td>\n",
       "    </tr>\n",
       "    <tr>\n",
       "      <th>97</th>\n",
       "      <td>\\n各國記者眼中的羽毛球世錦賽\\n \\n\\n-----------------------...</td>\n",
       "      <td>體育</td>\n",
       "    </tr>\n",
       "    <tr>\n",
       "      <th>98</th>\n",
       "      <td>\\n友好運動會第五天 東道主選手大顯神威\\n2001年09月03日02:51:40 新華社 ...</td>\n",
       "      <td>體育</td>\n",
       "    </tr>\n",
       "    <tr>\n",
       "      <th>99</th>\n",
       "      <td>不靠技術比運氣\\n\\n　　第二屆奧運會在巴黎舉行，同時這裡也正在舉行國際博覽會，東道主把一些...</td>\n",
       "      <td>體育</td>\n",
       "    </tr>\n",
       "    <tr>\n",
       "      <th>100</th>\n",
       "      <td>帆 板 運 動 簡 介（二）\\n\\n　　我國在79年由國家體委青島航海運動學校成功試製出第一...</td>\n",
       "      <td>體育</td>\n",
       "    </tr>\n",
       "  </tbody>\n",
       "</table>\n",
       "<p>101 rows × 2 columns</p>\n",
       "</div>"
      ],
      "text/plain": [
       "                                               content ans\n",
       "0    日月光華 -- Traffic_Info精華區文章閱讀\\n-----------------...  交通\n",
       "1    日月光華 -- Traffic_Info精華區文章閱讀\\n-----------------...  交通\n",
       "2    日月光華 -- Traffic_Info精華區文章閱讀\\n-----------------...  交通\n",
       "3    三趟火車停開 乘客可全額退票 \\n瀏覽次數：1180 \\n    昨日，來自鐵路部門的消息說...  交通\n",
       "4    日月光華 -- Traffic_Info精華區文章閱讀\\n-----------------...  交通\n",
       "..                                                 ...  ..\n",
       "96   最優秀選手無緣亞運會健美賽\\n \\n　 \\n    健美在亞洲運動會上是“新生兒”——韓國釜...  體育\n",
       "97    \\n各國記者眼中的羽毛球世錦賽\\n \\n\\n-----------------------...  體育\n",
       "98   \\n友好運動會第五天 東道主選手大顯神威\\n2001年09月03日02:51:40 新華社 ...  體育\n",
       "99   不靠技術比運氣\\n\\n　　第二屆奧運會在巴黎舉行，同時這裡也正在舉行國際博覽會，東道主把一些...  體育\n",
       "100  帆 板 運 動 簡 介（二）\\n\\n　　我國在79年由國家體委青島航海運動學校成功試製出第一...  體育\n",
       "\n",
       "[101 rows x 2 columns]"
      ]
     },
     "execution_count": 1,
     "metadata": {},
     "output_type": "execute_result"
    }
   ],
   "source": [
    "import glob\n",
    "import os\n",
    "import pandas as pd\n",
    "fs = glob.glob(\"chinese_news_test/*/*.[tT][xX][tT]\")\n",
    "cats = []\n",
    "contents = []\n",
    "for fname in fs:\n",
    "    fn = os.path.split(fname)[-1]\n",
    "    with open(fname, \"r\", encoding=\"utf-8\") as f:\n",
    "        content = f.read()\n",
    "        contents.append(content)\n",
    "    dn = os.path.split(fname)[0]\n",
    "    dn = os.path.split(dn)[-1]\n",
    "    cats.append(dn)\n",
    "test_df = pd.DataFrame({\n",
    "    \"content\":contents,\n",
    "    \"ans\":cats\n",
    "})\n",
    "test_df"
   ]
  },
  {
   "cell_type": "code",
   "execution_count": 2,
   "metadata": {
    "collapsed": true
   },
   "outputs": [
    {
     "data": {
      "text/html": [
       "<div>\n",
       "<style scoped>\n",
       "    .dataframe tbody tr th:only-of-type {\n",
       "        vertical-align: middle;\n",
       "    }\n",
       "\n",
       "    .dataframe tbody tr th {\n",
       "        vertical-align: top;\n",
       "    }\n",
       "\n",
       "    .dataframe thead th {\n",
       "        text-align: right;\n",
       "    }\n",
       "</style>\n",
       "<table border=\"1\" class=\"dataframe\">\n",
       "  <thead>\n",
       "    <tr style=\"text-align: right;\">\n",
       "      <th></th>\n",
       "      <th>content</th>\n",
       "      <th>ans</th>\n",
       "    </tr>\n",
       "  </thead>\n",
       "  <tbody>\n",
       "    <tr>\n",
       "      <th>0</th>\n",
       "      <td>【 日  期 】19960104\\n【 版  號 】1\\n【 標  題 】合巢蕪高速公路巢蕪...</td>\n",
       "      <td>交通</td>\n",
       "    </tr>\n",
       "    <tr>\n",
       "      <th>1</th>\n",
       "      <td>【 日  期 】19960226\\n【 版  號 】5\\n【 標  題 】我首臺載人磁懸浮列...</td>\n",
       "      <td>交通</td>\n",
       "    </tr>\n",
       "    <tr>\n",
       "      <th>2</th>\n",
       "      <td>大秦鐵路萬噸列車試運成功\\n新華社北京５月２４日電（通訊員李忠民）大秦...</td>\n",
       "      <td>交通</td>\n",
       "    </tr>\n",
       "    <tr>\n",
       "      <th>3</th>\n",
       "      <td>遼寧省檯安縣村村都通柏油路鄉村公路建設全國數第\\n一\\n    (4)...</td>\n",
       "      <td>交通</td>\n",
       "    </tr>\n",
       "    <tr>\n",
       "      <th>4</th>\n",
       "      <td>北京—烏蘭巴托—莫斯料３／４次國際旅客列車通車\\n３０週年\\n    ...</td>\n",
       "      <td>交通</td>\n",
       "    </tr>\n",
       "    <tr>\n",
       "      <th>...</th>\n",
       "      <td>...</td>\n",
       "      <td>...</td>\n",
       "    </tr>\n",
       "    <tr>\n",
       "      <th>2632</th>\n",
       "      <td>馬玉芹破女子４００米跑全國青年紀錄\\n新華社鞍山５月１０日電（通訊員王...</td>\n",
       "      <td>體育</td>\n",
       "    </tr>\n",
       "    <tr>\n",
       "      <th>2633</th>\n",
       "      <td>國際奧委會中國臺北委員吳經國訪問北京\\n新華社北京５月１０日電記者《中...</td>\n",
       "      <td>體育</td>\n",
       "    </tr>\n",
       "    <tr>\n",
       "      <th>2634</th>\n",
       "      <td>亞奧理事會３９個成員組織全部以書面形式確認參加\\n第十一屆亞運會\\n ...</td>\n",
       "      <td>體育</td>\n",
       "    </tr>\n",
       "    <tr>\n",
       "      <th>2635</th>\n",
       "      <td>世界盃乒乓球團體賽男子團體採用新賽制\\n新華社北京５月１０日電（記者樑...</td>\n",
       "      <td>體育</td>\n",
       "    </tr>\n",
       "    <tr>\n",
       "      <th>2636</th>\n",
       "      <td>登頂隊員簡介\\n新華社珠穆朗瑪峰５月１０日電登頂隊員簡介\\n     ...</td>\n",
       "      <td>體育</td>\n",
       "    </tr>\n",
       "  </tbody>\n",
       "</table>\n",
       "<p>2637 rows × 2 columns</p>\n",
       "</div>"
      ],
      "text/plain": [
       "                                                content ans\n",
       "0     【 日  期 】19960104\\n【 版  號 】1\\n【 標  題 】合巢蕪高速公路巢蕪...  交通\n",
       "1     【 日  期 】19960226\\n【 版  號 】5\\n【 標  題 】我首臺載人磁懸浮列...  交通\n",
       "2                大秦鐵路萬噸列車試運成功\\n新華社北京５月２４日電（通訊員李忠民）大秦...  交通\n",
       "3                遼寧省檯安縣村村都通柏油路鄉村公路建設全國數第\\n一\\n    (4)...  交通\n",
       "4                北京—烏蘭巴托—莫斯料３／４次國際旅客列車通車\\n３０週年\\n    ...  交通\n",
       "...                                                 ...  ..\n",
       "2632             馬玉芹破女子４００米跑全國青年紀錄\\n新華社鞍山５月１０日電（通訊員王...  體育\n",
       "2633             國際奧委會中國臺北委員吳經國訪問北京\\n新華社北京５月１０日電記者《中...  體育\n",
       "2634             亞奧理事會３９個成員組織全部以書面形式確認參加\\n第十一屆亞運會\\n ...  體育\n",
       "2635             世界盃乒乓球團體賽男子團體採用新賽制\\n新華社北京５月１０日電（記者樑...  體育\n",
       "2636             登頂隊員簡介\\n新華社珠穆朗瑪峰５月１０日電登頂隊員簡介\\n     ...  體育\n",
       "\n",
       "[2637 rows x 2 columns]"
      ]
     },
     "execution_count": 2,
     "metadata": {},
     "output_type": "execute_result"
    }
   ],
   "source": [
    "fs = glob.glob(\"chinese_news_trans/*/*.[tT][xX][tT]\")\n",
    "cats = []\n",
    "contents = []\n",
    "for fname in fs:\n",
    "    fn = os.path.split(fname)[-1]\n",
    "    with open(fname, \"r\", encoding=\"utf-8\") as f:\n",
    "        content = f.read()\n",
    "        contents.append(content)\n",
    "    dn = os.path.split(fname)[0]\n",
    "    dn = os.path.split(dn)[-1]\n",
    "    cats.append(dn)\n",
    "train_df = pd.DataFrame({\n",
    "    \"content\":contents,\n",
    "    \"ans\":cats\n",
    "})\n",
    "train_df"
   ]
  },
  {
   "cell_type": "code",
   "execution_count": 9,
   "metadata": {},
   "outputs": [
    {
     "data": {
      "text/plain": [
       "{'交通': 0,\n",
       " '政治': 1,\n",
       " '教育': 2,\n",
       " '環境': 3,\n",
       " '經濟': 4,\n",
       " '藝術': 5,\n",
       " '計算機': 6,\n",
       " '軍事': 7,\n",
       " '醫藥': 8,\n",
       " '體育': 9}"
      ]
     },
     "execution_count": 9,
     "metadata": {},
     "output_type": "execute_result"
    }
   ],
   "source": [
    "# unique\n",
    "labels = train_df[\"ans\"].unique()\n",
    "trans = {label:i for i, label in enumerate(labels)}\n",
    "reverse_trans = {i:label for i, label in enumerate(labels)}\n",
    "trans"
   ]
  },
  {
   "cell_type": "code",
   "execution_count": 10,
   "metadata": {},
   "outputs": [],
   "source": [
    "from urllib.request import urlretrieve\n",
    "url = \"https://github.com/fxsjy/jieba/raw/master/extra_dict/dict.txt.big\"\n",
    "urlretrieve(url, \"dict.txt.big\")\n",
    "import jieba\n",
    "jieba.set_dictionary(\"dict.txt.big\")"
   ]
  },
  {
   "cell_type": "code",
   "execution_count": 16,
   "metadata": {},
   "outputs": [],
   "source": [
    "def newscut(s):\n",
    "    s = s.replace(\"\\r\", \"\").replace(\"\\n\", \"\")\n",
    "    return \" \".join(jieba.cut(s))"
   ]
  },
  {
   "cell_type": "code",
   "execution_count": 19,
   "metadata": {},
   "outputs": [
    {
     "data": {
      "text/plain": [
       "0      日月 光華   - -   Traffic _ Info 精華區 文章 閱讀 - - - -...\n",
       "1      日月 光華   - -   Traffic _ Info 精華區 文章 閱讀 - - - -...\n",
       "2      日月 光華   - -   Traffic _ Info 精華區 文章 閱讀 - - - -...\n",
       "3      三趟 火車 停開   乘客 可 全額 退票   瀏覽 次數 ： 1180          ...\n",
       "4      日月 光華   - -   Traffic _ Info 精華區 文章 閱讀 - - - -...\n",
       "                             ...                        \n",
       "96     最 優秀 選手 無緣 亞運會 健美 賽   　           健美 在 亞洲 運動會 ...\n",
       "97       各國 記者 眼中 的 羽毛球 世錦賽   - - - - - - - - - - - -...\n",
       "98     友好 運動會 第五天   東道主 選手 大顯神威 2001 年 09 月 03 日 02 :...\n",
       "99     不靠 技術 比 運氣 　 　 第二屆 奧運會 在 巴黎 舉行 ， 同時 這裡 也 正在 舉行...\n",
       "100    帆   板   運   動   簡   介 （ 二 ） 　 　 我國 在 79 年 由 國家...\n",
       "Name: content, Length: 101, dtype: object"
      ]
     },
     "execution_count": 19,
     "metadata": {},
     "output_type": "execute_result"
    }
   ],
   "source": [
    "x_train = train_df[\"content\"].apply(newscut)\n",
    "x_test = test_df[\"content\"].apply(newscut)\n",
    "x_test"
   ]
  },
  {
   "cell_type": "code",
   "execution_count": 22,
   "metadata": {},
   "outputs": [
    {
     "data": {
      "text/plain": [
       "0      0\n",
       "1      0\n",
       "2      0\n",
       "3      0\n",
       "4      0\n",
       "      ..\n",
       "96     9\n",
       "97     9\n",
       "98     9\n",
       "99     9\n",
       "100    9\n",
       "Name: ans, Length: 101, dtype: int64"
      ]
     },
     "execution_count": 22,
     "metadata": {},
     "output_type": "execute_result"
    }
   ],
   "source": [
    "y_train = train_df[\"ans\"].replace(trans)\n",
    "y_test = test_df[\"ans\"].replace(trans)\n",
    "y_test"
   ]
  },
  {
   "cell_type": "code",
   "execution_count": 25,
   "metadata": {},
   "outputs": [
    {
     "data": {
      "text/plain": [
       "<101x74744 sparse matrix of type '<class 'numpy.int64'>'\n",
       "\twith 27219 stored elements in Compressed Sparse Row format>"
      ]
     },
     "execution_count": 25,
     "metadata": {},
     "output_type": "execute_result"
    }
   ],
   "source": [
    "from sklearn.feature_extraction.text import CountVectorizer\n",
    "vec = CountVectorizer()\n",
    "x_train_vec = vec.fit_transform(x_train)\n",
    "x_test_vec = vec.transform(x_test)\n",
    "x_test_vec"
   ]
  },
  {
   "cell_type": "code",
   "execution_count": 27,
   "metadata": {},
   "outputs": [
    {
     "data": {
      "text/plain": [
       "MultinomialNB(alpha=1.0, class_prior=None, fit_prior=True)"
      ]
     },
     "execution_count": 27,
     "metadata": {},
     "output_type": "execute_result"
    }
   ],
   "source": [
    "from sklearn.naive_bayes import MultinomialNB\n",
    "clf = MultinomialNB()\n",
    "clf.fit(x_train_vec, y_train)"
   ]
  },
  {
   "cell_type": "code",
   "execution_count": 28,
   "metadata": {},
   "outputs": [
    {
     "data": {
      "text/plain": [
       "1.0"
      ]
     },
     "execution_count": 28,
     "metadata": {},
     "output_type": "execute_result"
    }
   ],
   "source": [
    "from sklearn.metrics import accuracy_score\n",
    "pre = clf.predict(x_test_vec)\n",
    "accuracy_score(pre, y_test)"
   ]
  },
  {
   "cell_type": "code",
   "execution_count": 46,
   "metadata": {},
   "outputs": [
    {
     "name": "stdout",
     "output_type": "stream",
     "text": [
      "輸入新聞:「他們在彈劾案的前一天爆炸。」在漫長的聽證與政壇亂鬥後，2019年美國政治新聞的高潮、因烏克蘭門風波而起的「川普總統彈劾案」，即將於美東18日於國會眾議院展開全院辯論與表決。根據當前風向，眾議院應能如願通過彈劾案，川普也將繼安德魯．詹森、柯林頓之後，成為「史上第三位面對參議院彈劾審判的美國總統」。儘管外界大多認為，以共和黨為主的參議院，不太可能定罪川普、將他推下總統大位；但對國會號召極為惱火的川普，17日仍在眾院彈劾表決的前夕，向民主黨籍的眾院議長裴洛西（Nancy Pelosi）發出一封措辭激烈的咆哮信，暴怒指責民主黨一系列的「彈劾陰謀」不僅褻瀆上帝、更是對「美國民主的公開宣戰！」  根據《華盛頓郵報》的初步統計，在眾議院的435席議員裡，目前已有218席公開支持「彈劾川普」；剩下198席反對、15席不表態。因此彈劾案如無意外，應能順利通過18日下午的眾議院表決，而川普也將步上安德魯．詹森與柯林頓的後塵，於過年之後面對參議院的「彈劾審判」。  不過在通過眾議院這關後，後續的參議院審判，則將由參議員席次佔多數的共和黨接手主導——在彈劾審判中，必須有三分之二以上的參議員贊成定罪，川普才有可能被彈劾案給拉下台。但在總計100席的參議院裡，共和黨就達53席；因此除非共和黨嚴重分裂、並出現「20席以上的集體倒戈」，否則民主黨黨團幾乎不可能拔掉川普的總統大位。  民主黨方面認為，川普在烏克蘭門事件中所展現的權力濫用、勾結境外勢力影響國內選舉，已嚴重破壞了美國的民主與憲政制度，「如果民主黨團選擇對此沉默，那到了2020年選舉，自身又該如何面對川普的敵意打壓與陰謀亂政呢？」  但共和黨方面卻強調，川普對烏克蘭的施壓行為「或許有其觀感爭議的地方」，不過美國是法治國家、川普的行為並未直接涉及不法。民主黨選擇在2020總統大選前「濫用眾議院多數、貿然啟動『總統彈劾案』」，其行為完全就是政治惡鬥的私心操作，對於憲政秩序、國會倫理，也將開啟亂訴亂政的「邪惡先例」。\n",
      "******************************\n",
      "這個新聞應該是: 經濟\n",
      "******************************\n",
      "類別: 經濟 機率: 0.5123210665432361\n",
      "類別: 政治 機率: 0.487678933166542\n",
      "類別: 軍事 機率: 2.9039720148068203e-10\n",
      "類別: 計算機 機率: 1.86581534349515e-34\n",
      "類別: 環境 機率: 1.7273372154343255e-39\n",
      "類別: 教育 機率: 9.232001458391706e-41\n",
      "類別: 藝術 機率: 1.8647014449765887e-50\n",
      "類別: 體育 機率: 9.293976793228323e-55\n",
      "類別: 交通 機率: 1.4594731447047734e-57\n",
      "類別: 醫藥 機率: 1.0551387864307052e-59\n"
     ]
    }
   ],
   "source": [
    "n = input(\"輸入新聞:\")\n",
    "n = newscut(n)\n",
    "n = vec.transform([n])\n",
    "pi = reverse_trans[clf.predict(n)[0]]\n",
    "print(\"*\" * 30)\n",
    "print(\"這個新聞應該是:\", pi)\n",
    "print(\"*\" * 30)\n",
    "proba = clf.predict_proba(n)[0]\n",
    "proba = sorted(list(zip(trans, proba)),\n",
    "               reverse=True,\n",
    "               key=lambda x:x[1])\n",
    "for l, p in proba:\n",
    "    print(\"類別:\", l, \"機率:\", p)"
   ]
  },
  {
   "cell_type": "code",
   "execution_count": 40,
   "metadata": {},
   "outputs": [
    {
     "name": "stdout",
     "output_type": "stream",
     "text": [
      "1 4 7\n",
      "2 5 8\n",
      "3 6 9\n"
     ]
    }
   ],
   "source": [
    "# zip([1, 2, 3], [4, 5, 6], [7, 8, 9])\n",
    "for i, j, k in zip([1, 2, 3], [4, 5, 6], [7, 8, 9]):\n",
    "    print(i, j, k)"
   ]
  },
  {
   "cell_type": "code",
   "execution_count": 42,
   "metadata": {},
   "outputs": [
    {
     "data": {
      "text/plain": [
       "[4, 3, 1]"
      ]
     },
     "execution_count": 42,
     "metadata": {},
     "output_type": "execute_result"
    }
   ],
   "source": [
    "sorted([1, 4, 3], reverse=True)"
   ]
  },
  {
   "cell_type": "code",
   "execution_count": 43,
   "metadata": {},
   "outputs": [
    {
     "data": {
      "text/plain": [
       "[('ooo', 4), ('aaaa', 3), ('xxx', 1)]"
      ]
     },
     "execution_count": 43,
     "metadata": {},
     "output_type": "execute_result"
    }
   ],
   "source": [
    "#def pick(x):\n",
    "#    return x[1]\n",
    "sorted([(\"xxx\", 1), (\"ooo\", 4), (\"aaaa\", 3)], \n",
    "       reverse=True,\n",
    "       key=lambda x:x[1])"
   ]
  },
  {
   "cell_type": "code",
   "execution_count": null,
   "metadata": {},
   "outputs": [],
   "source": []
  }
 ],
 "metadata": {
  "kernelspec": {
   "display_name": "Python 3",
   "language": "python",
   "name": "python3"
  },
  "language_info": {
   "codemirror_mode": {
    "name": "ipython",
    "version": 3
   },
   "file_extension": ".py",
   "mimetype": "text/x-python",
   "name": "python",
   "nbconvert_exporter": "python",
   "pygments_lexer": "ipython3",
   "version": "3.7.5"
  }
 },
 "nbformat": 4,
 "nbformat_minor": 2
}
