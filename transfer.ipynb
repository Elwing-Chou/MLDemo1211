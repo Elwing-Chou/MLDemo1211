{
 "cells": [
  {
   "cell_type": "code",
   "execution_count": 1,
   "metadata": {},
   "outputs": [
    {
     "data": {
      "text/html": [
       "<div>\n",
       "<style scoped>\n",
       "    .dataframe tbody tr th:only-of-type {\n",
       "        vertical-align: middle;\n",
       "    }\n",
       "\n",
       "    .dataframe tbody tr th {\n",
       "        vertical-align: top;\n",
       "    }\n",
       "\n",
       "    .dataframe thead th {\n",
       "        text-align: right;\n",
       "    }\n",
       "</style>\n",
       "<table border=\"1\" class=\"dataframe\">\n",
       "  <thead>\n",
       "    <tr style=\"text-align: right;\">\n",
       "      <th></th>\n",
       "      <th>path</th>\n",
       "      <th>ans</th>\n",
       "    </tr>\n",
       "  </thead>\n",
       "  <tbody>\n",
       "    <tr>\n",
       "      <th>0</th>\n",
       "      <td>train/train\\cat.0.jpg</td>\n",
       "      <td>0</td>\n",
       "    </tr>\n",
       "    <tr>\n",
       "      <th>1</th>\n",
       "      <td>train/train\\cat.1.jpg</td>\n",
       "      <td>0</td>\n",
       "    </tr>\n",
       "    <tr>\n",
       "      <th>2</th>\n",
       "      <td>train/train\\cat.10.jpg</td>\n",
       "      <td>0</td>\n",
       "    </tr>\n",
       "    <tr>\n",
       "      <th>3</th>\n",
       "      <td>train/train\\cat.100.jpg</td>\n",
       "      <td>0</td>\n",
       "    </tr>\n",
       "    <tr>\n",
       "      <th>4</th>\n",
       "      <td>train/train\\cat.1000.jpg</td>\n",
       "      <td>0</td>\n",
       "    </tr>\n",
       "    <tr>\n",
       "      <th>...</th>\n",
       "      <td>...</td>\n",
       "      <td>...</td>\n",
       "    </tr>\n",
       "    <tr>\n",
       "      <th>24995</th>\n",
       "      <td>train/train\\dog.9995.jpg</td>\n",
       "      <td>1</td>\n",
       "    </tr>\n",
       "    <tr>\n",
       "      <th>24996</th>\n",
       "      <td>train/train\\dog.9996.jpg</td>\n",
       "      <td>1</td>\n",
       "    </tr>\n",
       "    <tr>\n",
       "      <th>24997</th>\n",
       "      <td>train/train\\dog.9997.jpg</td>\n",
       "      <td>1</td>\n",
       "    </tr>\n",
       "    <tr>\n",
       "      <th>24998</th>\n",
       "      <td>train/train\\dog.9998.jpg</td>\n",
       "      <td>1</td>\n",
       "    </tr>\n",
       "    <tr>\n",
       "      <th>24999</th>\n",
       "      <td>train/train\\dog.9999.jpg</td>\n",
       "      <td>1</td>\n",
       "    </tr>\n",
       "  </tbody>\n",
       "</table>\n",
       "<p>25000 rows × 2 columns</p>\n",
       "</div>"
      ],
      "text/plain": [
       "                           path  ans\n",
       "0         train/train\\cat.0.jpg    0\n",
       "1         train/train\\cat.1.jpg    0\n",
       "2        train/train\\cat.10.jpg    0\n",
       "3       train/train\\cat.100.jpg    0\n",
       "4      train/train\\cat.1000.jpg    0\n",
       "...                         ...  ...\n",
       "24995  train/train\\dog.9995.jpg    1\n",
       "24996  train/train\\dog.9996.jpg    1\n",
       "24997  train/train\\dog.9997.jpg    1\n",
       "24998  train/train\\dog.9998.jpg    1\n",
       "24999  train/train\\dog.9999.jpg    1\n",
       "\n",
       "[25000 rows x 2 columns]"
      ]
     },
     "execution_count": 1,
     "metadata": {},
     "output_type": "execute_result"
    }
   ],
   "source": [
    "import glob\n",
    "import pandas as pd\n",
    "catfs = glob.glob(\"train/train/cat.*.jpg\")\n",
    "catt = [0] * len(catfs)\n",
    "dogfs = glob.glob(\"train/train/dog.*.jpg\")\n",
    "dogt = [1] * len(dogfs)\n",
    "df = pd.DataFrame({\n",
    "    \"path\":catfs + dogfs,\n",
    "    \"ans\":catt + dogt\n",
    "})\n",
    "df"
   ]
  },
  {
   "cell_type": "code",
   "execution_count": 2,
   "metadata": {},
   "outputs": [
    {
     "name": "stderr",
     "output_type": "stream",
     "text": [
      "Using TensorFlow backend.\n",
      "C:\\Users\\user\\AppData\\Local\\Programs\\Python\\Python37\\lib\\site-packages\\tensorflow\\python\\framework\\dtypes.py:516: FutureWarning: Passing (type, 1) or '1type' as a synonym of type is deprecated; in a future version of numpy, it will be understood as (type, (1,)) / '(1,)type'.\n",
      "  _np_qint8 = np.dtype([(\"qint8\", np.int8, 1)])\n",
      "C:\\Users\\user\\AppData\\Local\\Programs\\Python\\Python37\\lib\\site-packages\\tensorflow\\python\\framework\\dtypes.py:517: FutureWarning: Passing (type, 1) or '1type' as a synonym of type is deprecated; in a future version of numpy, it will be understood as (type, (1,)) / '(1,)type'.\n",
      "  _np_quint8 = np.dtype([(\"quint8\", np.uint8, 1)])\n",
      "C:\\Users\\user\\AppData\\Local\\Programs\\Python\\Python37\\lib\\site-packages\\tensorflow\\python\\framework\\dtypes.py:518: FutureWarning: Passing (type, 1) or '1type' as a synonym of type is deprecated; in a future version of numpy, it will be understood as (type, (1,)) / '(1,)type'.\n",
      "  _np_qint16 = np.dtype([(\"qint16\", np.int16, 1)])\n",
      "C:\\Users\\user\\AppData\\Local\\Programs\\Python\\Python37\\lib\\site-packages\\tensorflow\\python\\framework\\dtypes.py:519: FutureWarning: Passing (type, 1) or '1type' as a synonym of type is deprecated; in a future version of numpy, it will be understood as (type, (1,)) / '(1,)type'.\n",
      "  _np_quint16 = np.dtype([(\"quint16\", np.uint16, 1)])\n",
      "C:\\Users\\user\\AppData\\Local\\Programs\\Python\\Python37\\lib\\site-packages\\tensorflow\\python\\framework\\dtypes.py:520: FutureWarning: Passing (type, 1) or '1type' as a synonym of type is deprecated; in a future version of numpy, it will be understood as (type, (1,)) / '(1,)type'.\n",
      "  _np_qint32 = np.dtype([(\"qint32\", np.int32, 1)])\n",
      "C:\\Users\\user\\AppData\\Local\\Programs\\Python\\Python37\\lib\\site-packages\\tensorflow\\python\\framework\\dtypes.py:525: FutureWarning: Passing (type, 1) or '1type' as a synonym of type is deprecated; in a future version of numpy, it will be understood as (type, (1,)) / '(1,)type'.\n",
      "  np_resource = np.dtype([(\"resource\", np.ubyte, 1)])\n",
      "C:\\Users\\user\\AppData\\Local\\Programs\\Python\\Python37\\lib\\site-packages\\tensorboard\\compat\\tensorflow_stub\\dtypes.py:541: FutureWarning: Passing (type, 1) or '1type' as a synonym of type is deprecated; in a future version of numpy, it will be understood as (type, (1,)) / '(1,)type'.\n",
      "  _np_qint8 = np.dtype([(\"qint8\", np.int8, 1)])\n",
      "C:\\Users\\user\\AppData\\Local\\Programs\\Python\\Python37\\lib\\site-packages\\tensorboard\\compat\\tensorflow_stub\\dtypes.py:542: FutureWarning: Passing (type, 1) or '1type' as a synonym of type is deprecated; in a future version of numpy, it will be understood as (type, (1,)) / '(1,)type'.\n",
      "  _np_quint8 = np.dtype([(\"quint8\", np.uint8, 1)])\n",
      "C:\\Users\\user\\AppData\\Local\\Programs\\Python\\Python37\\lib\\site-packages\\tensorboard\\compat\\tensorflow_stub\\dtypes.py:543: FutureWarning: Passing (type, 1) or '1type' as a synonym of type is deprecated; in a future version of numpy, it will be understood as (type, (1,)) / '(1,)type'.\n",
      "  _np_qint16 = np.dtype([(\"qint16\", np.int16, 1)])\n",
      "C:\\Users\\user\\AppData\\Local\\Programs\\Python\\Python37\\lib\\site-packages\\tensorboard\\compat\\tensorflow_stub\\dtypes.py:544: FutureWarning: Passing (type, 1) or '1type' as a synonym of type is deprecated; in a future version of numpy, it will be understood as (type, (1,)) / '(1,)type'.\n",
      "  _np_quint16 = np.dtype([(\"quint16\", np.uint16, 1)])\n",
      "C:\\Users\\user\\AppData\\Local\\Programs\\Python\\Python37\\lib\\site-packages\\tensorboard\\compat\\tensorflow_stub\\dtypes.py:545: FutureWarning: Passing (type, 1) or '1type' as a synonym of type is deprecated; in a future version of numpy, it will be understood as (type, (1,)) / '(1,)type'.\n",
      "  _np_qint32 = np.dtype([(\"qint32\", np.int32, 1)])\n",
      "C:\\Users\\user\\AppData\\Local\\Programs\\Python\\Python37\\lib\\site-packages\\tensorboard\\compat\\tensorflow_stub\\dtypes.py:550: FutureWarning: Passing (type, 1) or '1type' as a synonym of type is deprecated; in a future version of numpy, it will be understood as (type, (1,)) / '(1,)type'.\n",
      "  np_resource = np.dtype([(\"resource\", np.ubyte, 1)])\n"
     ]
    },
    {
     "name": "stdout",
     "output_type": "stream",
     "text": [
      "WARNING:tensorflow:From C:\\Users\\user\\AppData\\Local\\Programs\\Python\\Python37\\lib\\site-packages\\keras\\backend\\tensorflow_backend.py:4070: The name tf.nn.max_pool is deprecated. Please use tf.nn.max_pool2d instead.\n",
      "\n",
      "Model: \"vgg16\"\n",
      "_________________________________________________________________\n",
      "Layer (type)                 Output Shape              Param #   \n",
      "=================================================================\n",
      "input_1 (InputLayer)         (None, 224, 224, 3)       0         \n",
      "_________________________________________________________________\n",
      "block1_conv1 (Conv2D)        (None, 224, 224, 64)      1792      \n",
      "_________________________________________________________________\n",
      "block1_conv2 (Conv2D)        (None, 224, 224, 64)      36928     \n",
      "_________________________________________________________________\n",
      "block1_pool (MaxPooling2D)   (None, 112, 112, 64)      0         \n",
      "_________________________________________________________________\n",
      "block2_conv1 (Conv2D)        (None, 112, 112, 128)     73856     \n",
      "_________________________________________________________________\n",
      "block2_conv2 (Conv2D)        (None, 112, 112, 128)     147584    \n",
      "_________________________________________________________________\n",
      "block2_pool (MaxPooling2D)   (None, 56, 56, 128)       0         \n",
      "_________________________________________________________________\n",
      "block3_conv1 (Conv2D)        (None, 56, 56, 256)       295168    \n",
      "_________________________________________________________________\n",
      "block3_conv2 (Conv2D)        (None, 56, 56, 256)       590080    \n",
      "_________________________________________________________________\n",
      "block3_conv3 (Conv2D)        (None, 56, 56, 256)       590080    \n",
      "_________________________________________________________________\n",
      "block3_pool (MaxPooling2D)   (None, 28, 28, 256)       0         \n",
      "_________________________________________________________________\n",
      "block4_conv1 (Conv2D)        (None, 28, 28, 512)       1180160   \n",
      "_________________________________________________________________\n",
      "block4_conv2 (Conv2D)        (None, 28, 28, 512)       2359808   \n",
      "_________________________________________________________________\n",
      "block4_conv3 (Conv2D)        (None, 28, 28, 512)       2359808   \n",
      "_________________________________________________________________\n",
      "block4_pool (MaxPooling2D)   (None, 14, 14, 512)       0         \n",
      "_________________________________________________________________\n",
      "block5_conv1 (Conv2D)        (None, 14, 14, 512)       2359808   \n",
      "_________________________________________________________________\n",
      "block5_conv2 (Conv2D)        (None, 14, 14, 512)       2359808   \n",
      "_________________________________________________________________\n",
      "block5_conv3 (Conv2D)        (None, 14, 14, 512)       2359808   \n",
      "_________________________________________________________________\n",
      "block5_pool (MaxPooling2D)   (None, 7, 7, 512)         0         \n",
      "=================================================================\n",
      "Total params: 14,714,688\n",
      "Trainable params: 14,714,688\n",
      "Non-trainable params: 0\n",
      "_________________________________________________________________\n"
     ]
    }
   ],
   "source": [
    "from keras.applications.vgg16 import VGG16\n",
    "vgg = VGG16(include_top=False, input_shape=(224, 224, 3))\n",
    "vgg.summary()"
   ]
  },
  {
   "cell_type": "code",
   "execution_count": 3,
   "metadata": {},
   "outputs": [
    {
     "data": {
      "text/plain": [
       "[<keras.engine.input_layer.InputLayer at 0x2157438fe08>,\n",
       " <keras.layers.convolutional.Conv2D at 0x215084c5cc8>,\n",
       " <keras.layers.convolutional.Conv2D at 0x215084e1348>,\n",
       " <keras.layers.pooling.MaxPooling2D at 0x215085106c8>,\n",
       " <keras.layers.convolutional.Conv2D at 0x21508535cc8>,\n",
       " <keras.layers.convolutional.Conv2D at 0x2150857d288>,\n",
       " <keras.layers.pooling.MaxPooling2D at 0x21508570908>,\n",
       " <keras.layers.convolutional.Conv2D at 0x215085b3808>,\n",
       " <keras.layers.convolutional.Conv2D at 0x215085d87c8>,\n",
       " <keras.layers.convolutional.Conv2D at 0x215085eef48>,\n",
       " <keras.layers.pooling.MaxPooling2D at 0x21508624948>,\n",
       " <keras.layers.convolutional.Conv2D at 0x2150863cb08>,\n",
       " <keras.layers.convolutional.Conv2D at 0x21508674488>,\n",
       " <keras.layers.convolutional.Conv2D at 0x21508687ac8>,\n",
       " <keras.layers.pooling.MaxPooling2D at 0x215086caec8>,\n",
       " <keras.layers.convolutional.Conv2D at 0x215086d8888>,\n",
       " <keras.layers.convolutional.Conv2D at 0x21508713208>,\n",
       " <keras.layers.convolutional.Conv2D at 0x2150872df08>,\n",
       " <keras.layers.pooling.MaxPooling2D at 0x2157ffd39c8>]"
      ]
     },
     "execution_count": 3,
     "metadata": {},
     "output_type": "execute_result"
    }
   ],
   "source": [
    "vgg.layers"
   ]
  },
  {
   "cell_type": "code",
   "execution_count": 4,
   "metadata": {},
   "outputs": [
    {
     "name": "stdout",
     "output_type": "stream",
     "text": [
      "Model: \"model_1\"\n",
      "_________________________________________________________________\n",
      "Layer (type)                 Output Shape              Param #   \n",
      "=================================================================\n",
      "input_1 (InputLayer)         (None, 224, 224, 3)       0         \n",
      "_________________________________________________________________\n",
      "block1_conv1 (Conv2D)        (None, 224, 224, 64)      1792      \n",
      "_________________________________________________________________\n",
      "block1_conv2 (Conv2D)        (None, 224, 224, 64)      36928     \n",
      "_________________________________________________________________\n",
      "block1_pool (MaxPooling2D)   (None, 112, 112, 64)      0         \n",
      "_________________________________________________________________\n",
      "block2_conv1 (Conv2D)        (None, 112, 112, 128)     73856     \n",
      "_________________________________________________________________\n",
      "block2_conv2 (Conv2D)        (None, 112, 112, 128)     147584    \n",
      "_________________________________________________________________\n",
      "block2_pool (MaxPooling2D)   (None, 56, 56, 128)       0         \n",
      "_________________________________________________________________\n",
      "block3_conv1 (Conv2D)        (None, 56, 56, 256)       295168    \n",
      "_________________________________________________________________\n",
      "block3_conv2 (Conv2D)        (None, 56, 56, 256)       590080    \n",
      "_________________________________________________________________\n",
      "block3_conv3 (Conv2D)        (None, 56, 56, 256)       590080    \n",
      "_________________________________________________________________\n",
      "block3_pool (MaxPooling2D)   (None, 28, 28, 256)       0         \n",
      "_________________________________________________________________\n",
      "block4_conv1 (Conv2D)        (None, 28, 28, 512)       1180160   \n",
      "_________________________________________________________________\n",
      "block4_conv2 (Conv2D)        (None, 28, 28, 512)       2359808   \n",
      "_________________________________________________________________\n",
      "block4_conv3 (Conv2D)        (None, 28, 28, 512)       2359808   \n",
      "_________________________________________________________________\n",
      "block4_pool (MaxPooling2D)   (None, 14, 14, 512)       0         \n",
      "_________________________________________________________________\n",
      "block5_conv1 (Conv2D)        (None, 14, 14, 512)       2359808   \n",
      "_________________________________________________________________\n",
      "block5_conv2 (Conv2D)        (None, 14, 14, 512)       2359808   \n",
      "_________________________________________________________________\n",
      "block5_conv3 (Conv2D)        (None, 14, 14, 512)       2359808   \n",
      "_________________________________________________________________\n",
      "block5_pool (MaxPooling2D)   (None, 7, 7, 512)         0         \n",
      "_________________________________________________________________\n",
      "batch_normalization_1 (Batch (None, 7, 7, 512)         2048      \n",
      "_________________________________________________________________\n",
      "flatten_1 (Flatten)          (None, 25088)             0         \n",
      "_________________________________________________________________\n",
      "dense_1 (Dense)              (None, 512)               12845568  \n",
      "_________________________________________________________________\n",
      "dropout_1 (Dropout)          (None, 512)               0         \n",
      "_________________________________________________________________\n",
      "dense_2 (Dense)              (None, 2)                 1026      \n",
      "=================================================================\n",
      "Total params: 27,563,330\n",
      "Trainable params: 12,847,618\n",
      "Non-trainable params: 14,715,712\n",
      "_________________________________________________________________\n"
     ]
    }
   ],
   "source": [
    "from keras.models import Model\n",
    "from keras.layers import Dense, Dropout, Flatten\n",
    "from keras.layers import BatchNormalization\n",
    "# trainable一定要在compile前\n",
    "for l in vgg.layers:\n",
    "    l.trainable = False\n",
    "x = BatchNormalization()(vgg.output)\n",
    "# MLP\n",
    "x = Flatten()(x)\n",
    "x = Dense(512, activation=\"relu\")(x)\n",
    "x = Dropout(0.25)(x)\n",
    "out = Dense(2, activation=\"softmax\")(x)\n",
    "model = Model(inputs=vgg.input, outputs=out)\n",
    "model.summary()"
   ]
  },
  {
   "cell_type": "code",
   "execution_count": 5,
   "metadata": {},
   "outputs": [],
   "source": [
    "model.compile(loss=\"sparse_categorical_crossentropy\",\n",
    "              optimizer=\"adam\",\n",
    "              metrics=[\"accuracy\"])"
   ]
  },
  {
   "cell_type": "code",
   "execution_count": 6,
   "metadata": {},
   "outputs": [
    {
     "data": {
      "text/plain": [
       "array([[[ -16.939003 ,   47.221    ,   79.32     ],\n",
       "        [ -13.939003 ,   50.221    ,   82.32     ],\n",
       "        [ -10.939003 ,   53.221    ,   85.32     ],\n",
       "        ...,\n",
       "        [  15.060997 ,   86.221    ,  121.32     ],\n",
       "        [  18.060997 ,   85.221    ,  119.32     ],\n",
       "        [  17.060997 ,   83.221    ,  115.32     ]],\n",
       "\n",
       "       [[ -16.939003 ,   47.221    ,   79.32     ],\n",
       "        [ -13.939003 ,   50.221    ,   82.32     ],\n",
       "        [ -10.939003 ,   53.221    ,   85.32     ],\n",
       "        ...,\n",
       "        [  16.060997 ,   88.221    ,  121.32     ],\n",
       "        [  19.060997 ,   87.221    ,  118.32     ],\n",
       "        [  18.060997 ,   84.221    ,  116.32     ]],\n",
       "\n",
       "       [[ -16.939003 ,   47.221    ,   79.32     ],\n",
       "        [ -13.939003 ,   50.221    ,   82.32     ],\n",
       "        [ -10.939003 ,   53.221    ,   85.32     ],\n",
       "        ...,\n",
       "        [  18.060997 ,   87.221    ,  121.32     ],\n",
       "        [  20.060997 ,   88.221    ,  119.32     ],\n",
       "        [  19.060997 ,   85.221    ,  117.32     ]],\n",
       "\n",
       "       ...,\n",
       "\n",
       "       [[ -47.939003 ,    6.2210007,   30.32     ],\n",
       "        [ -46.939003 ,    7.2210007,   31.32     ],\n",
       "        [ -45.939003 ,    8.221001 ,   32.32     ],\n",
       "        ...,\n",
       "        [-102.939    , -113.779    , -120.68     ],\n",
       "        [-102.939    , -113.779    , -120.68     ],\n",
       "        [-102.939    , -113.779    , -120.68     ]],\n",
       "\n",
       "       [[ -48.939003 ,    5.2210007,   29.32     ],\n",
       "        [ -48.939003 ,    5.2210007,   29.32     ],\n",
       "        [ -47.939003 ,    6.2210007,   30.32     ],\n",
       "        ...,\n",
       "        [-103.939    , -114.779    , -121.68     ],\n",
       "        [-103.939    , -114.779    , -121.68     ],\n",
       "        [-103.939    , -114.779    , -121.68     ]],\n",
       "\n",
       "       [[ -50.939003 ,    3.2210007,   27.32     ],\n",
       "        [ -49.939003 ,    4.2210007,   28.32     ],\n",
       "        [ -48.939003 ,    5.2210007,   29.32     ],\n",
       "        ...,\n",
       "        [-103.939    , -115.779    , -122.68     ],\n",
       "        [-103.939    , -115.779    , -122.68     ],\n",
       "        [-103.939    , -115.779    , -122.68     ]]], dtype=float32)"
      ]
     },
     "execution_count": 6,
     "metadata": {},
     "output_type": "execute_result"
    }
   ],
   "source": [
    "# https://github.com/keras-team/keras-applications/blob/master/keras_applications/imagenet_utils.py\n",
    "import numpy as np\n",
    "from keras.preprocessing.image import load_img\n",
    "from keras.applications.vgg16 import preprocess_input\n",
    "p = df.iloc[0][\"path\"]\n",
    "img = load_img(p, target_size=(224, 224)).convert(\"RGB\")\n",
    "img_np = np.array(img)\n",
    "img_pre = preprocess_input(img_np)\n",
    "img_pre"
   ]
  },
  {
   "cell_type": "code",
   "execution_count": 7,
   "metadata": {},
   "outputs": [
    {
     "name": "stdout",
     "output_type": "stream",
     "text": [
      "[2 5 0 2 4]\n",
      "[4, 25, 0, 4, 16]\n"
     ]
    }
   ],
   "source": [
    "# 試試看numpy的randint\n",
    "ori = np.random.randint(0, 10, 5)\n",
    "new = list(map(lambda x:x**2, ori))\n",
    "print(ori)\n",
    "print(new)"
   ]
  },
  {
   "cell_type": "code",
   "execution_count": 8,
   "metadata": {},
   "outputs": [],
   "source": [
    "def preprocess(path):\n",
    "    img = load_img(path, target_size=(224, 224)).convert(\"RGB\")\n",
    "    img_np = np.array(img)\n",
    "    img_pre = preprocess_input(img_np)\n",
    "    return img_pre\n",
    "\n",
    "def get_images(paths, targets, batch=20):\n",
    "    idx = np.random.randint(0, len(paths), batch)\n",
    "    ps = paths[idx]\n",
    "    xs = np.array(list(map(preprocess, ps)))\n",
    "    ys = targets[idx]\n",
    "    return (ps, xs, ys)"
   ]
  },
  {
   "cell_type": "code",
   "execution_count": 9,
   "metadata": {},
   "outputs": [
    {
     "name": "stdout",
     "output_type": "stream",
     "text": [
      "[1 0 1 0 1 1 0 0 1 1 0 0 1 1 1 0 1 0 0 0]\n"
     ]
    }
   ],
   "source": [
    "from sklearn.model_selection import train_test_split\n",
    "x = np.array(df[\"path\"])\n",
    "y = np.array(df[\"ans\"])\n",
    "x_train, x_test, y_train, y_test = train_test_split(x, y,\n",
    "                                                    test_size=0.1)\n",
    "ps, xs, ys = get_images(x_train, y_train)\n",
    "print(ys)"
   ]
  },
  {
   "cell_type": "code",
   "execution_count": 16,
   "metadata": {},
   "outputs": [
    {
     "name": "stdout",
     "output_type": "stream",
     "text": [
      "--------------- Times: 0 ---------------\n",
      "[Train]: [0.001118183, 0.94166666]\n",
      "[Validate]: [3.6481442, 0.95]\n",
      "--------------- Times: 1 ---------------\n",
      "[Train]: [1.5183446, 0.95]\n",
      "[Validate]: [5.1111116, 0.85]\n",
      "--------------- Times: 2 ---------------\n",
      "[Train]: [0.080176465, 0.95]\n",
      "[Validate]: [2.1719987, 0.95]\n",
      "--------------- Times: 3 ---------------\n",
      "[Train]: [0.096115425, 0.95]\n",
      "[Validate]: [2.8043418, 0.95]\n",
      "--------------- Times: 4 ---------------\n",
      "[Train]: [0.14845842, 0.9]\n",
      "[Validate]: [1.341597, 0.9]\n",
      "--------------- Times: 5 ---------------\n",
      "[Train]: [0.3307212, 0.9]\n",
      "[Validate]: [10.627007, 0.9]\n",
      "--------------- Times: 6 ---------------\n",
      "[Train]: [0.075927235, 0.95]\n",
      "[Validate]: [1.7816223, 0.95]\n",
      "--------------- Times: 7 ---------------\n",
      "[Train]: [0.32854944, 0.9]\n",
      "[Validate]: [5.996207e-05, 1.0]\n",
      "--------------- Times: 8 ---------------\n",
      "[Train]: [0.500323, 0.95]\n",
      "[Validate]: [5.5855513, 0.85]\n",
      "--------------- Times: 9 ---------------\n",
      "[Train]: [0.25954515, 0.95]\n",
      "[Validate]: [4.7323847e-06, 1.0]\n"
     ]
    }
   ],
   "source": [
    "for i in range(10):\n",
    "    print(\"-\" * 15, \"Times:\" , i, \"-\" * 15)\n",
    "    _, xs, ys = get_images(x_train, y_train)\n",
    "    train_loss = model.train_on_batch(xs, ys)\n",
    "    print(\"[Train]:\", train_loss)\n",
    "    _, xs, ys = get_images(x_test, y_test)\n",
    "    val_loss = model.test_on_batch(xs, ys)\n",
    "    print(\"[Validate]:\", val_loss)"
   ]
  },
  {
   "cell_type": "code",
   "execution_count": 17,
   "metadata": {},
   "outputs": [
    {
     "name": "stdout",
     "output_type": "stream",
     "text": [
      "100/100 [==============================] - 11s 114ms/step\n"
     ]
    },
    {
     "data": {
      "text/plain": [
       "[2.201955246031284, 0.9700000286102295]"
      ]
     },
     "execution_count": 17,
     "metadata": {},
     "output_type": "execute_result"
    }
   ],
   "source": [
    "_, xs, ys = get_images(x_test, y_test, 100)\n",
    "model.evaluate(xs, ys)"
   ]
  },
  {
   "cell_type": "code",
   "execution_count": 15,
   "metadata": {},
   "outputs": [
    {
     "data": {
      "text/plain": [
       "array([[1.0000000e+00, 1.0549212e-09],\n",
       "       [1.0000000e+00, 8.0240025e-19],\n",
       "       [1.0000000e+00, 0.0000000e+00],\n",
       "       [1.0000000e+00, 0.0000000e+00],\n",
       "       [2.4852169e-27, 1.0000000e+00],\n",
       "       [1.0000000e+00, 7.1048871e-34],\n",
       "       [1.0000000e+00, 0.0000000e+00],\n",
       "       [0.0000000e+00, 1.0000000e+00],\n",
       "       [4.0714419e-01, 5.9285581e-01],\n",
       "       [1.0000000e+00, 0.0000000e+00],\n",
       "       [0.0000000e+00, 1.0000000e+00],\n",
       "       [0.0000000e+00, 1.0000000e+00],\n",
       "       [1.0000000e+00, 0.0000000e+00],\n",
       "       [1.0000000e+00, 0.0000000e+00],\n",
       "       [1.0000000e+00, 0.0000000e+00],\n",
       "       [1.0000000e+00, 0.0000000e+00],\n",
       "       [0.0000000e+00, 1.0000000e+00],\n",
       "       [2.5600609e-01, 7.4399394e-01],\n",
       "       [1.0000000e+00, 0.0000000e+00],\n",
       "       [1.0000000e+00, 2.7609719e-38],\n",
       "       [1.0000000e+00, 0.0000000e+00],\n",
       "       [0.0000000e+00, 1.0000000e+00],\n",
       "       [1.0000000e+00, 0.0000000e+00],\n",
       "       [1.0000000e+00, 0.0000000e+00],\n",
       "       [6.2728241e-06, 9.9999368e-01],\n",
       "       [1.4512217e-23, 1.0000000e+00],\n",
       "       [1.0000000e+00, 0.0000000e+00],\n",
       "       [0.0000000e+00, 1.0000000e+00],\n",
       "       [0.0000000e+00, 1.0000000e+00],\n",
       "       [1.0000000e+00, 8.3185697e-26],\n",
       "       [1.0000000e+00, 2.6597215e-31],\n",
       "       [1.0000000e+00, 0.0000000e+00],\n",
       "       [3.4410356e-35, 1.0000000e+00],\n",
       "       [1.0000000e+00, 0.0000000e+00],\n",
       "       [0.0000000e+00, 1.0000000e+00],\n",
       "       [1.0000000e+00, 0.0000000e+00],\n",
       "       [1.0000000e+00, 2.6391420e-25],\n",
       "       [1.0000000e+00, 0.0000000e+00],\n",
       "       [1.7090923e-20, 1.0000000e+00],\n",
       "       [3.9726513e-28, 1.0000000e+00],\n",
       "       [1.0000000e+00, 6.1008566e-31],\n",
       "       [6.9397785e-25, 1.0000000e+00],\n",
       "       [0.0000000e+00, 1.0000000e+00],\n",
       "       [0.0000000e+00, 1.0000000e+00],\n",
       "       [1.0000000e+00, 0.0000000e+00],\n",
       "       [0.0000000e+00, 1.0000000e+00],\n",
       "       [9.9929488e-01, 7.0505537e-04],\n",
       "       [0.0000000e+00, 1.0000000e+00],\n",
       "       [1.0000000e+00, 0.0000000e+00],\n",
       "       [1.0000000e+00, 0.0000000e+00],\n",
       "       [1.0000000e+00, 0.0000000e+00],\n",
       "       [1.0000000e+00, 0.0000000e+00],\n",
       "       [1.0000000e+00, 0.0000000e+00],\n",
       "       [0.0000000e+00, 1.0000000e+00],\n",
       "       [1.3115893e-04, 9.9986887e-01],\n",
       "       [0.0000000e+00, 1.0000000e+00],\n",
       "       [3.2325004e-30, 1.0000000e+00],\n",
       "       [7.9714604e-13, 1.0000000e+00],\n",
       "       [1.0000000e+00, 0.0000000e+00],\n",
       "       [1.0000000e+00, 4.6370656e-20],\n",
       "       [1.0000000e+00, 0.0000000e+00],\n",
       "       [1.0000000e+00, 0.0000000e+00],\n",
       "       [1.0000000e+00, 0.0000000e+00],\n",
       "       [1.0000000e+00, 0.0000000e+00],\n",
       "       [9.8887661e-33, 1.0000000e+00],\n",
       "       [0.0000000e+00, 1.0000000e+00],\n",
       "       [0.0000000e+00, 1.0000000e+00],\n",
       "       [1.0000000e+00, 0.0000000e+00],\n",
       "       [0.0000000e+00, 1.0000000e+00],\n",
       "       [1.0000000e+00, 0.0000000e+00],\n",
       "       [2.7483021e-36, 1.0000000e+00],\n",
       "       [0.0000000e+00, 1.0000000e+00],\n",
       "       [1.0000000e+00, 1.3834050e-13],\n",
       "       [1.0000000e+00, 0.0000000e+00],\n",
       "       [0.0000000e+00, 1.0000000e+00],\n",
       "       [1.0000000e+00, 0.0000000e+00],\n",
       "       [0.0000000e+00, 1.0000000e+00],\n",
       "       [1.0000000e+00, 0.0000000e+00],\n",
       "       [0.0000000e+00, 1.0000000e+00],\n",
       "       [0.0000000e+00, 1.0000000e+00],\n",
       "       [0.0000000e+00, 1.0000000e+00],\n",
       "       [1.0000000e+00, 0.0000000e+00],\n",
       "       [0.0000000e+00, 1.0000000e+00],\n",
       "       [0.0000000e+00, 1.0000000e+00],\n",
       "       [1.0000000e+00, 0.0000000e+00],\n",
       "       [1.0000000e+00, 3.6869280e-24],\n",
       "       [0.0000000e+00, 1.0000000e+00],\n",
       "       [1.0000000e+00, 0.0000000e+00],\n",
       "       [0.0000000e+00, 1.0000000e+00],\n",
       "       [1.0000000e+00, 2.2567275e-14],\n",
       "       [1.0000000e+00, 0.0000000e+00],\n",
       "       [0.0000000e+00, 1.0000000e+00],\n",
       "       [1.0000000e+00, 0.0000000e+00],\n",
       "       [0.0000000e+00, 1.0000000e+00],\n",
       "       [5.2736758e-37, 1.0000000e+00],\n",
       "       [0.0000000e+00, 1.0000000e+00],\n",
       "       [1.0000000e+00, 0.0000000e+00],\n",
       "       [0.0000000e+00, 1.0000000e+00],\n",
       "       [0.0000000e+00, 1.0000000e+00],\n",
       "       [1.0000000e+00, 0.0000000e+00]], dtype=float32)"
      ]
     },
     "execution_count": 15,
     "metadata": {},
     "output_type": "execute_result"
    }
   ],
   "source": [
    "# 觀察機率: 0.0 1.0絕對有問題\n",
    "model.predict(xs)"
   ]
  },
  {
   "cell_type": "code",
   "execution_count": 18,
   "metadata": {},
   "outputs": [
    {
     "name": "stdout",
     "output_type": "stream",
     "text": [
      "100/100 [==============================] - 12s 118ms/step\n",
      "命中率: 92.00000166893005 %\n"
     ]
    },
    {
     "data": {
      "image/png": "[encoded data removed]",
      "text/plain": [
       "<Figure size 1008x3024 with 8 Axes>"
      ]
     },
     "metadata": {
      "needs_background": "light"
     },
     "output_type": "display_data"
    }
   ],
   "source": [
    "import numpy as np\n",
    "import matplotlib.pyplot as plt\n",
    "%matplotlib inline\n",
    "\n",
    "ps, xs, ys = get_images(x_test, y_test, 100)\n",
    "accu = model.evaluate(xs, ys)[1]\n",
    "print(\"命中率:\", accu * 100, \"%\")\n",
    "# 如果是使用Model, 而不是Sequential的話\n",
    "# 你會沒有 predict_classes\n",
    "# 你要用predict + argmax來替代\n",
    "pre = model.predict(xs).argmax(axis=1)\n",
    "\n",
    "x_test = np.array(list(map(lambda p:np.array(load_img(p)), ps)))\n",
    "idx = np.nonzero(pre != ys)[0][:200]\n",
    "pre_false_img = x_test[idx]\n",
    "pre_false_label = ys[idx]\n",
    "pre_false_pre = pre[idx]\n",
    "\n",
    "width = 10\n",
    "height = len(idx) // width + 1\n",
    "plt.figure(figsize=(14, 42))\n",
    "\n",
    "trans = [\"Cat\", \"Dog\"]\n",
    "z = zip(pre_false_img, pre_false_label, pre_false_pre)\n",
    "# (i, (z1, z2, z3))\n",
    "for i, (img, label, p) in enumerate(z):\n",
    "    plt.subplot(height, width, i+1)\n",
    "    plt.title(\"[O]:{}\\n[P]:{}\".format(trans[label], trans[p]))\n",
    "    plt.axis(\"off\")\n",
    "    plt.imshow(img)"
   ]
  },
  {
   "cell_type": "code",
   "execution_count": null,
   "metadata": {},
   "outputs": [],
   "source": []
  }
 ],
 "metadata": {
  "kernelspec": {
   "display_name": "Python 3",
   "language": "python",
   "name": "python3"
  },
  "language_info": {
   "codemirror_mode": {
    "name": "ipython",
    "version": 3
   },
   "file_extension": ".py",
   "mimetype": "text/x-python",
   "name": "python",
   "nbconvert_exporter": "python",
   "pygments_lexer": "ipython3",
   "version": "3.7.5"
  }
 },
 "nbformat": 4,
 "nbformat_minor": 2
}
